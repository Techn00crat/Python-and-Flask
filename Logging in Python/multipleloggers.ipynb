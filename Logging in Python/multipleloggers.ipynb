{
 "cells": [
  {
   "cell_type": "markdown",
   "id": "f8fdc59d",
   "metadata": {},
   "source": [
    "#### Logging with Multiple Loggers\n",
    "You can create multiple loggers for different parts of your application."
   ]
  },
  {
   "cell_type": "code",
   "execution_count": 1,
   "id": "ac1106a5",
   "metadata": {},
   "outputs": [],
   "source": [
    "import logging\n",
    "\n",
    "## Creating a logger for module1\n",
    "logger1 = logging.getLogger('module1')\n",
    "logger1.setLevel(logging.DEBUG)\n",
    "\n",
    "\n",
    "## Create a logger for Module2\n",
    "logger2 = logging.getLogger('module2')\n",
    "logger2.setLevel(logging.WARNING)\n",
    "\n",
    "## Configure Logging settings\n",
    "\n",
    "logging.basicConfig(\n",
    "    level = logging.DEBUG,\n",
    "    format = \"%(asctime)s - %(name)s - %(levelname)s - %(message)s\",\n",
    "    datefmt = \"%Y-%m-%d %H:%M:%S\",\n",
    ")"
   ]
  },
  {
   "cell_type": "code",
   "execution_count": 3,
   "id": "a56476dd",
   "metadata": {},
   "outputs": [
    {
     "name": "stderr",
     "output_type": "stream",
     "text": [
      "2025-04-07 21:54:06 - module1 - DEBUG - This is a debug message from module1\n",
      "2025-04-07 21:54:06 - module2 - WARNING - This is a warning message from module2\n",
      "2025-04-07 21:54:06 - module2 - ERROR - This is an error message from module2\n"
     ]
    }
   ],
   "source": [
    "## Log messages with different loggers\n",
    "\n",
    "logger1.debug(\"This is a debug message from module1\")\n",
    "logger2.warning(\"This is a warning message from module2\")\n",
    "logger2.error(\"This is an error message from module2\")"
   ]
  },
  {
   "cell_type": "code",
   "execution_count": null,
   "id": "c7f1ff17",
   "metadata": {},
   "outputs": [],
   "source": []
  }
 ],
 "metadata": {
  "kernelspec": {
   "display_name": "Python 3",
   "language": "python",
   "name": "python3"
  },
  "language_info": {
   "codemirror_mode": {
    "name": "ipython",
    "version": 3
   },
   "file_extension": ".py",
   "mimetype": "text/x-python",
   "name": "python",
   "nbconvert_exporter": "python",
   "pygments_lexer": "ipython3",
   "version": "3.12.0"
  }
 },
 "nbformat": 4,
 "nbformat_minor": 5
}
