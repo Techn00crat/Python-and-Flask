{
 "cells": [
  {
   "cell_type": "markdown",
   "metadata": {},
   "source": [
    "#### Polymorphism\n",
    "Polymorphism is a core concept in Object-Oriented Programming (OOP) that allows objects of different classes to be treated as objects of a common superclass. It provides a way to perform a single action in different forms. Polymorphism is typically achieved through method overriding and interfaces"
   ]
  },
  {
   "cell_type": "markdown",
   "metadata": {},
   "source": [
    "###  Method Overriding\n",
    "Method overriding allows a child class to provide a specific implementation of a method that is already defined in its parent class."
   ]
  },
  {
   "cell_type": "code",
   "execution_count": 4,
   "metadata": {},
   "outputs": [
    {
     "name": "stdout",
     "output_type": "stream",
     "text": [
      "Woof!\n",
      "Meow!\n",
      "Woof!\n",
      "Meow!\n"
     ]
    }
   ],
   "source": [
    "## BAse class\n",
    "\n",
    "class Animal():\n",
    "    def speak(self):\n",
    "        return \"Sound of the Animal\"\n",
    "    \n",
    "# Derived Class1\n",
    "\n",
    "class Dog(Animal):\n",
    "    def speak(self):\n",
    "        return \"Woof!\"\n",
    "\n",
    "# Derived Class2\n",
    "\n",
    "class Cat(Animal):\n",
    "    def speak(self):\n",
    "        return \"Meow!\"\n",
    "\n",
    "## Function that demonstrate polymorphism\n",
    "def animal_sound(animal):\n",
    "    print(animal.speak())\n",
    "dog1 = Dog()\n",
    "cat1 = Cat()\n",
    "print(dog1.speak()) # Output: Woof!\n",
    "print(cat1.speak()) # Output: Meow!\n",
    "animal_sound(dog1)\n",
    "animal_sound(cat1)"
   ]
  },
  {
   "cell_type": "code",
   "execution_count": 6,
   "metadata": {},
   "outputs": [
    {
     "name": "stdout",
     "output_type": "stream",
     "text": [
      "50\n",
      "153.93804002589985\n",
      "The area of the shape is 50\n",
      "The area of the shape is 153.93804002589985\n"
     ]
    }
   ],
   "source": [
    "## Polymorphism with functions and methods\n",
    "\n",
    "## base class\n",
    "import math\n",
    "from math import pi\n",
    "\n",
    "class Shape:\n",
    "    def area(self):\n",
    "        return \"Area of the shape\"\n",
    "    \n",
    "# derived class1\n",
    "class Rectangle(Shape):\n",
    "    def __init__(self, length, width):\n",
    "        self.length = length\n",
    "        self.width = width\n",
    "    \n",
    "    def area(self):\n",
    "        return self.length * self.width\n",
    "\n",
    "    \n",
    "# derived class2\n",
    "\n",
    "class Circle(Shape):\n",
    "    def __init__(self, radius):\n",
    "        self.radius = radius\n",
    "\n",
    "    def area(self):\n",
    "        return pi * (self.radius ** 2)\n",
    "    \n",
    "## Functiion that demonstrate polymorphism\n",
    "\n",
    "def print_area(shape):\n",
    "    print(f\"The area of the shape is {shape.area()}\")\n",
    "\n",
    "# creating objects\n",
    "\n",
    "rectangle = Rectangle(10,5)\n",
    "circle = Circle(7)\n",
    "\n",
    "print(rectangle.area())\n",
    "print(circle.area())\n",
    "print_area(rectangle) # Output: The area of the shape is 50\n",
    "print_area(circle) # Output: The area of the shape is 153.93804002589985"
   ]
  },
  {
   "cell_type": "markdown",
   "metadata": {},
   "source": [
    "#### Polymorphism with Abstract Base Classes\n",
    "Abstract Base Classes (ABCs) are used to define common methods for a group of related objects. They can enforce that derived classes implement particular methods, promoting consistency across different implementations."
   ]
  },
  {
   "cell_type": "code",
   "execution_count": 9,
   "metadata": {},
   "outputs": [
    {
     "name": "stdout",
     "output_type": "stream",
     "text": [
      "Car engine started\n",
      "Bike engine started\n"
     ]
    }
   ],
   "source": [
    "from abc import ABC, abstractmethod\n",
    "\n",
    "class Vehicle(ABC):\n",
    "    @abstractmethod\n",
    "    def start_engine(self):\n",
    "        return \"Engine Started\"\n",
    "    \n",
    "# derived class1\n",
    "\n",
    "class Car(Vehicle):\n",
    "    def start_engine(self):\n",
    "        return \"Car engine started\"\n",
    "    \n",
    "# derived class2\n",
    "\n",
    "class Bike(Vehicle):\n",
    "    def start_engine(self):\n",
    "        return \"Bike engine started\"\n",
    "    \n",
    "## Function that demonstrate polymorphism\n",
    "def start_vechicle(vehichle):\n",
    "    print(vehichle.start_engine())\n",
    "\n",
    "## Creating objects of the car and bike \n",
    "\n",
    "start_vechicle(Car()) # Output: Car engine started\n",
    "start_vechicle(Bike()) # Output: Bike engine started"
   ]
  },
  {
   "cell_type": "code",
   "execution_count": null,
   "metadata": {},
   "outputs": [],
   "source": []
  },
  {
   "cell_type": "code",
   "execution_count": null,
   "metadata": {},
   "outputs": [],
   "source": []
  },
  {
   "cell_type": "markdown",
   "metadata": {},
   "source": [
    "#### Conclusion\n",
    "Polymorphism is a powerful feature of OOP that allows for flexibility and integration in code design. It enables a single function to handle objects of different classes, each with its own implementation of a method. By understanding and applying polymorphism, you can create more extensible and maintainable object-oriented programs."
   ]
  }
 ],
 "metadata": {
  "kernelspec": {
   "display_name": "Python 3",
   "language": "python",
   "name": "python3"
  },
  "language_info": {
   "codemirror_mode": {
    "name": "ipython",
    "version": 3
   },
   "file_extension": ".py",
   "mimetype": "text/x-python",
   "name": "python",
   "nbconvert_exporter": "python",
   "pygments_lexer": "ipython3",
   "version": "3.12.0"
  }
 },
 "nbformat": 4,
 "nbformat_minor": 2
}
